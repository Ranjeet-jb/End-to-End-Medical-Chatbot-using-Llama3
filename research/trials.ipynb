{
 "cells": [
  {
   "cell_type": "code",
   "execution_count": 22,
   "id": "1eb2a1b7",
   "metadata": {},
   "outputs": [
    {
     "name": "stdout",
     "output_type": "stream",
     "text": [
      "okie\n"
     ]
    }
   ],
   "source": [
    "print(\"okie\")"
   ]
  },
  {
   "cell_type": "code",
   "execution_count": 23,
   "id": "b847c5fd",
   "metadata": {},
   "outputs": [],
   "source": [
    "from langchain.embeddings import HuggingFaceEmbeddings\n",
    "from langchain.document_loaders import PyPDFLoader, DirectoryLoader\n",
    "from langchain.text_splitter import RecursiveCharacterTextSplitter"
   ]
  },
  {
   "cell_type": "code",
   "execution_count": 24,
   "id": "d838f612",
   "metadata": {},
   "outputs": [],
   "source": [
    "PINECONE_API_KEY = \"pcsk_3tVDRV_9vnx6F8411DpGEvCUgx9E7ogz3guPB8VugKZSgitCYHxzrDx13dXuSRb1LaskQC\"\n",
    "PINECONE_API_ENV = \"us-east-1\""
   ]
  },
  {
   "cell_type": "code",
   "execution_count": 31,
   "id": "36ca647d",
   "metadata": {},
   "outputs": [],
   "source": [
    "def loadpdf(data):\n",
    "    loader = DirectoryLoader(data,\n",
    "                    glob=\"*.pdf\",\n",
    "                    loader_cls=PyPDFLoader)\n",
    "    documents = loader.load()\n",
    "    return documents"
   ]
  },
  {
   "cell_type": "code",
   "execution_count": 32,
   "id": "0a561298",
   "metadata": {},
   "outputs": [],
   "source": [
    "extracted_data = loadpdf(\"data/\")"
   ]
  },
  {
   "cell_type": "code",
   "execution_count": 33,
   "id": "f92a927b",
   "metadata": {},
   "outputs": [],
   "source": [
    "#extracted_data"
   ]
  },
  {
   "cell_type": "code",
   "execution_count": 34,
   "id": "057acc00",
   "metadata": {},
   "outputs": [],
   "source": [
    "# create text chunks \n",
    "def text_split(extracted_data):\n",
    "    text_splitter = RecursiveCharacterTextSplitter(chunk_size = 500, chunk_overlap = 20)\n",
    "    text_chunks = text_splitter.split_documents(extracted_data)\n",
    "\n",
    "    return text_chunks"
   ]
  },
  {
   "cell_type": "code",
   "execution_count": 35,
   "id": "ac68788c",
   "metadata": {},
   "outputs": [
    {
     "name": "stdout",
     "output_type": "stream",
     "text": [
      "Length of my chunk: 39994\n"
     ]
    }
   ],
   "source": [
    "text_chunks = text_split(extracted_data)\n",
    "print(\"Length of my chunk:\", len(text_chunks))"
   ]
  },
  {
   "cell_type": "code",
   "execution_count": 36,
   "id": "8b24f030",
   "metadata": {},
   "outputs": [],
   "source": [
    "# text_chunks"
   ]
  },
  {
   "cell_type": "code",
   "execution_count": 39,
   "id": "6d455394",
   "metadata": {},
   "outputs": [],
   "source": [
    "from langchain_huggingface import HuggingFaceEmbeddings\n",
    "\n",
    "def download_huggingface_embeddings():\n",
    "    embeddings = HuggingFaceEmbeddings(model_name=\"sentence-transformers/all-MiniLM-L6-v2\")\n",
    "    return embeddings\n",
    "\n",
    "embeddings = download_huggingface_embeddings()"
   ]
  },
  {
   "cell_type": "code",
   "execution_count": 40,
   "id": "05136dbf",
   "metadata": {},
   "outputs": [
    {
     "data": {
      "text/plain": [
       "HuggingFaceEmbeddings(model_name='sentence-transformers/all-MiniLM-L6-v2', cache_folder=None, model_kwargs={}, encode_kwargs={}, multi_process=False, show_progress=False)"
      ]
     },
     "execution_count": 40,
     "metadata": {},
     "output_type": "execute_result"
    }
   ],
   "source": [
    "embeddings"
   ]
  },
  {
   "cell_type": "code",
   "execution_count": 46,
   "id": "744636be",
   "metadata": {},
   "outputs": [],
   "source": [
    "import os\n",
    "from pinecone import Pinecone, ServerlessSpec\n",
    "from langchain_pinecone import PineconeVectorStore\n",
    "\n",
    "# Set environment variable before using langchain_pinecone\n",
    "os.environ[\"PINECONE_API_KEY\"] = \"pcsk_3tVDRV_9vnx6F8411DpGEvCUgx9E7ogz3guPB8VugKZSgitCYHxzrDx13dXuSRb1LaskQC\"\n",
    "os.environ[\"PINECONE_ENVIRONMENT\"] = \"us-east-1-aws\"  # REQUIRED\n",
    "\n",
    "# Initialize Pinecone client\n",
    "pc = Pinecone(api_key=os.environ[\"PINECONE_API_KEY\"])\n",
    "\n",
    "index_name = \"medical-bot\""
   ]
  },
  {
   "cell_type": "code",
   "execution_count": 47,
   "id": "3230e0c1",
   "metadata": {},
   "outputs": [],
   "source": [
    "# Create index if not exists\n",
    "if index_name not in pc.list_indexes().names():\n",
    "    pc.create_index(\n",
    "        name=index_name,\n",
    "        dimension=384,\n",
    "        metric=\"cosine\",\n",
    "        spec=ServerlessSpec(cloud=\"aws\", region=\"us-east-1\")\n",
    "    )"
   ]
  },
  {
   "cell_type": "code",
   "execution_count": 48,
   "id": "d70fb780",
   "metadata": {},
   "outputs": [],
   "source": [
    "# Now use LangChain PineconeVectorStore\n",
    "docsearch = PineconeVectorStore.from_documents(\n",
    "    documents=text_chunks,\n",
    "    embedding=embeddings,\n",
    "    index_name=index_name,\n",
    ")"
   ]
  },
  {
   "cell_type": "code",
   "execution_count": 54,
   "id": "0beda24f",
   "metadata": {},
   "outputs": [],
   "source": [
    "# docsearch"
   ]
  },
  {
   "cell_type": "code",
   "execution_count": 55,
   "id": "0a4da9a1",
   "metadata": {},
   "outputs": [],
   "source": [
    "retriever = docsearch.as_retriever(search_type=\"similarity\", search_kwargs={\"k\":5})"
   ]
  },
  {
   "cell_type": "code",
   "execution_count": 56,
   "id": "df58ab9b",
   "metadata": {},
   "outputs": [],
   "source": [
    "retrieved_docs = retriever.invoke(\"HIV\")"
   ]
  },
  {
   "cell_type": "code",
   "execution_count": 57,
   "id": "2cdf44c6",
   "metadata": {},
   "outputs": [
    {
     "data": {
      "text/plain": [
       "[Document(id='8188b251-96ff-44d4-8578-d85ee1a0f017', metadata={'creationdate': '2006-10-16T20:19:33+02:00', 'creator': 'Adobe Acrobat 6.0', 'moddate': '2006-10-16T22:03:45+02:00', 'page': 1999.0, 'page_label': '1970', 'producer': 'PDFlib+PDI 6.0.3 (SunOS)', 'source': 'data\\\\Medical book.pdf', 'total_pages': 4505.0}, page_content='Immunodeficiency'),\n",
       " Document(id='4a34905e-2cf4-4ee6-baf3-e3808a26b63a', metadata={'creationdate': '2006-10-16T20:19:33+02:00', 'creator': 'Adobe Acrobat 6.0', 'moddate': '2006-10-16T22:03:45+02:00', 'page': 1998.0, 'page_label': '1969', 'producer': 'PDFlib+PDI 6.0.3 (SunOS)', 'source': 'data\\\\Medical book.pdf', 'total_pages': 4505.0}, page_content='Immunodeficiency'),\n",
       " Document(id='e1f01674-b50d-4eb4-a094-0706be210c85', metadata={'creationdate': '2006-10-16T20:19:33+02:00', 'creator': 'Adobe Acrobat 6.0', 'moddate': '2006-10-16T22:03:45+02:00', 'page': 119.0, 'page_label': '90', 'producer': 'PDFlib+PDI 6.0.3 (SunOS)', 'source': 'data\\\\Medical book.pdf', 'total_pages': 4505.0}, page_content='face. A sample of the patient’s blood serum is added,\\nand excess proteins are removed. A second antibody\\ncoupled to an enzyme is added, followed by a che-\\nmical that will cause a color reaction that can be\\nmeasured by a special instrument.\\nHuman immunodeficiency virus (HIV)— A transmis-\\nsible retrovirus that causes AIDS in humans. Two\\nforms of HIV are now recognized: HIV-1, which\\ncauses most cases of AIDS in Europe, North and\\nSouth America, and most parts of Africa; and'),\n",
       " Document(id='ae6399d6-fcc4-4457-a8c2-22e7c1429016', metadata={'creationdate': '2006-10-16T20:19:33+02:00', 'creator': 'Adobe Acrobat 6.0', 'moddate': '2006-10-16T22:03:45+02:00', 'page': 113.0, 'page_label': '84', 'producer': 'PDFlib+PDI 6.0.3 (SunOS)', 'source': 'data\\\\Medical book.pdf', 'total_pages': 4505.0}, page_content='gulation disorders occurring almost exclusively in\\nmales. Because blood does not clot properly, even\\nminor injuries can cause significant blood loss that\\nmay require a blood transfusion, with its associated\\nminor risk of infection.\\nHuman immunodeficiency virus (HIV)— At r a n s m i s -\\nsible retrovirus that causes AIDS in humans. Two\\nforms of HIV are now recognized: HIV-1, which\\ncauses most cases of AIDS in Europe, North and\\nSouth America, and most parts of Africa; and HIV-2,'),\n",
       " Document(id='6a2a960b-c98b-4769-a9da-9aec42dcbf25', metadata={'creationdate': '2006-10-16T20:19:33+02:00', 'creator': 'Adobe Acrobat 6.0', 'moddate': '2006-10-16T22:03:45+02:00', 'page': 3072.0, 'page_label': '3043', 'producer': 'PDFlib+PDI 6.0.3 (SunOS)', 'source': 'data\\\\Medical book.pdf', 'total_pages': 4505.0}, page_content='involves removing a small piece of prostate tissue for\\nmicroscopic examination.\\nKEY TERMS\\nAIDS— Acquired immunodeficiency syndrome. A\\ndisease caused by infection with the human immu-\\nnodeficiency virus (HIV). In people with this dis-\\nease, the immune system breaks down, opening\\nthe door to other infections and some types of\\ncancer.\\nAntibiotic— A medicine used to treat infections.\\nChemotherapy— Treatment of an illness with che-\\nmical agents. The term is usually used to describe')]"
      ]
     },
     "execution_count": 57,
     "metadata": {},
     "output_type": "execute_result"
    }
   ],
   "source": [
    "retrieved_docs"
   ]
  },
  {
   "cell_type": "code",
   "execution_count": 58,
   "id": "b658ab0b",
   "metadata": {},
   "outputs": [
    {
     "name": "stdout",
     "output_type": "stream",
     "text": [
      "Response: There is no cure for HIV, but antiretroviral therapy (ART) is used to treat the disease. ART involves taking a combination of medicines to slow the progression of the virus. I don't know the specific names of the medicines used to treat HIV.\n"
     ]
    }
   ],
   "source": [
    "from together import Together\n",
    "\n",
    "# Join the retrieved documents into a single string\n",
    "retrieved_text = \"\\n\".join([doc.page_content for doc in retrieved_docs])\n",
    "user_question = \"medicine for HIV\"\n",
    "\n",
    "# Prepare the system prompt for the model\n",
    "system_prompt = (\n",
    "    \"You are an assistant for question-answering tasks. \"\n",
    "    \"Use the following pieces of retrieved context to answer the question. \"\n",
    "    \"If you don't know the answer, say that you don't know. \"\n",
    "    \"Use three sentences maximum and keep the answer concise.\"\n",
    "    \"\\n\\n\"\n",
    "    f\"{retrieved_text}\"\n",
    ")\n",
    "\n",
    "# Step 4: Send the prompt to the LLM model using Together API\n",
    "client = Together(api_key=\"48524a1dbffe66fd732b2d490d59c15c47ec440f48a1ed0cc7ba4cbda750be64\")\n",
    "response = client.chat.completions.create(\n",
    "    model=\"meta-llama/Llama-3.3-70B-Instruct-Turbo-Free\",\n",
    "    messages=[\n",
    "        {\"role\": \"system\", \"content\": system_prompt},\n",
    "        {\"role\": \"user\", \"content\": user_question}\n",
    "    ]\n",
    ")\n",
    "\n",
    "# Step 5: Print the response from the model\n",
    "# Adjust to access the correct attribute in the response\n",
    "print(\"Response:\", response.choices[0].message.content)"
   ]
  }
 ],
 "metadata": {
  "kernelspec": {
   "display_name": "mchatbot",
   "language": "python",
   "name": "python3"
  },
  "language_info": {
   "codemirror_mode": {
    "name": "ipython",
    "version": 3
   },
   "file_extension": ".py",
   "mimetype": "text/x-python",
   "name": "python",
   "nbconvert_exporter": "python",
   "pygments_lexer": "ipython3",
   "version": "3.10.17"
  }
 },
 "nbformat": 4,
 "nbformat_minor": 5
}
