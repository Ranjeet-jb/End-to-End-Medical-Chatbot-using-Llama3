{
 "cells": [
  {
   "cell_type": "code",
   "execution_count": 1,
   "id": "1eb2a1b7",
   "metadata": {},
   "outputs": [
    {
     "name": "stdout",
     "output_type": "stream",
     "text": [
      "okie\n"
     ]
    }
   ],
   "source": [
    "print(\"okie\")"
   ]
  },
  {
   "cell_type": "code",
   "execution_count": 2,
   "id": "b847c5fd",
   "metadata": {},
   "outputs": [],
   "source": [
    "from langchain.embeddings import HuggingFaceEmbeddings\n",
    "from langchain.document_loaders import PyPDFLoader, DirectoryLoader\n",
    "from langchain.text_splitter import RecursiveCharacterTextSplitter"
   ]
  },
  {
   "cell_type": "code",
   "execution_count": 3,
   "id": "36ca647d",
   "metadata": {},
   "outputs": [],
   "source": [
    "def loadpdf(data):\n",
    "    loader = DirectoryLoader(data,\n",
    "                    glob=\"*.pdf\",\n",
    "                    loader_cls=PyPDFLoader)\n",
    "    documents = loader.load()\n",
    "    return documents"
   ]
  },
  {
   "cell_type": "code",
   "execution_count": 4,
   "id": "0a561298",
   "metadata": {},
   "outputs": [],
   "source": [
    "extracted_data = loadpdf(\"data/\")"
   ]
  },
  {
   "cell_type": "code",
   "execution_count": 5,
   "id": "f92a927b",
   "metadata": {},
   "outputs": [],
   "source": [
    "#extracted_data"
   ]
  },
  {
   "cell_type": "code",
   "execution_count": 6,
   "id": "057acc00",
   "metadata": {},
   "outputs": [],
   "source": [
    "# create text chunks \n",
    "def text_split(extracted_data):\n",
    "    text_splitter = RecursiveCharacterTextSplitter(chunk_size = 500, chunk_overlap = 20)\n",
    "    text_chunks = text_splitter.split_documents(extracted_data)\n",
    "\n",
    "    return text_chunks"
   ]
  },
  {
   "cell_type": "code",
   "execution_count": 7,
   "id": "ac68788c",
   "metadata": {},
   "outputs": [
    {
     "name": "stdout",
     "output_type": "stream",
     "text": [
      "Length of my chunk: 39994\n"
     ]
    }
   ],
   "source": [
    "text_chunks = text_split(extracted_data)\n",
    "print(\"Length of my chunk:\", len(text_chunks))"
   ]
  },
  {
   "cell_type": "code",
   "execution_count": 8,
   "id": "8b24f030",
   "metadata": {},
   "outputs": [],
   "source": [
    "# text_chunks"
   ]
  },
  {
   "cell_type": "code",
   "execution_count": 9,
   "id": "6d455394",
   "metadata": {},
   "outputs": [
    {
     "name": "stderr",
     "output_type": "stream",
     "text": [
      "c:\\Users\\Ranjeet Kumar\\anaconda3\\envs\\mchatbot\\lib\\site-packages\\tqdm\\auto.py:21: TqdmWarning: IProgress not found. Please update jupyter and ipywidgets. See https://ipywidgets.readthedocs.io/en/stable/user_install.html\n",
      "  from .autonotebook import tqdm as notebook_tqdm\n"
     ]
    }
   ],
   "source": [
    "from langchain_huggingface import HuggingFaceEmbeddings\n",
    "\n",
    "def download_huggingface_embeddings():\n",
    "    embeddings = HuggingFaceEmbeddings(model_name=\"sentence-transformers/all-MiniLM-L6-v2\")\n",
    "    return embeddings\n",
    "\n",
    "embeddings = download_huggingface_embeddings()"
   ]
  },
  {
   "cell_type": "code",
   "execution_count": 10,
   "id": "05136dbf",
   "metadata": {},
   "outputs": [
    {
     "data": {
      "text/plain": [
       "HuggingFaceEmbeddings(model_name='sentence-transformers/all-MiniLM-L6-v2', cache_folder=None, model_kwargs={}, encode_kwargs={}, multi_process=False, show_progress=False)"
      ]
     },
     "execution_count": 10,
     "metadata": {},
     "output_type": "execute_result"
    }
   ],
   "source": [
    "embeddings"
   ]
  },
  {
   "cell_type": "code",
   "execution_count": 11,
   "id": "744636be",
   "metadata": {},
   "outputs": [],
   "source": [
    "import os\n",
    "from dotenv import load_dotenv\n",
    "from pinecone import Pinecone, ServerlessSpec\n",
    "from langchain_pinecone import PineconeVectorStore\n",
    "\n",
    "load_dotenv()\n",
    "\n",
    "PINECONE_API_KEY = os.environ.get(\"PINECONE_API_KEY\")\n",
    "PINECONE_API_ENV = os.environ.get(\"PINECONE_API_ENV\")\n",
    "\n",
    "# Initialize Pinecone client\n",
    "pc = Pinecone(api_key=PINECONE_API_KEY)\n",
    "\n",
    "index_name = \"medical-cbot\""
   ]
  },
  {
   "cell_type": "code",
   "execution_count": 12,
   "id": "3230e0c1",
   "metadata": {},
   "outputs": [],
   "source": [
    "# Create index if not exists\n",
    "if index_name not in pc.list_indexes().names():\n",
    "    pc.create_index(\n",
    "        name=index_name,\n",
    "        dimension=384,\n",
    "        metric=\"cosine\",\n",
    "        spec=ServerlessSpec(cloud=\"aws\", region=\"us-east-1\")\n",
    "    )"
   ]
  },
  {
   "cell_type": "code",
   "execution_count": 13,
   "id": "d70fb780",
   "metadata": {},
   "outputs": [],
   "source": [
    "# Now use LangChain PineconeVectorStore\n",
    "docsearch = PineconeVectorStore.from_documents(\n",
    "    documents=text_chunks,\n",
    "    embedding=embeddings,\n",
    "    index_name=index_name,\n",
    ")"
   ]
  },
  {
   "cell_type": "code",
   "execution_count": 14,
   "id": "0beda24f",
   "metadata": {},
   "outputs": [],
   "source": [
    "# docsearch"
   ]
  },
  {
   "cell_type": "code",
   "execution_count": 15,
   "id": "0a4da9a1",
   "metadata": {},
   "outputs": [],
   "source": [
    "retriever = docsearch.as_retriever(search_type=\"similarity\", search_kwargs={\"k\":5})"
   ]
  },
  {
   "cell_type": "code",
   "execution_count": 22,
   "id": "df58ab9b",
   "metadata": {},
   "outputs": [],
   "source": [
    "retrieved_docs = retriever.invoke(\"ion\")"
   ]
  },
  {
   "cell_type": "code",
   "execution_count": 23,
   "id": "2cdf44c6",
   "metadata": {},
   "outputs": [
    {
     "data": {
      "text/plain": [
       "[Document(id='9dfe8494-c29c-45d2-bb8d-ef7dc5f5c7c8', metadata={'creationdate': '2006-10-16T20:19:33+02:00', 'creator': 'Adobe Acrobat 6.0', 'moddate': '2006-10-16T22:03:45+02:00', 'page': 1306.0, 'page_label': '1277', 'producer': 'PDFlib+PDI 6.0.3 (SunOS)', 'source': 'data\\\\Medical book.pdf', 'total_pages': 4505.0}, page_content='tively charged. Positively charged ions are called\\ncations, and are formed when an atom or atom\\ngroup loses electrons. The most important cations in\\nthe human body are sodium, potassium, magnesium,\\nand calcium ions. Negatively charged ions are called\\nanions, and are formed when an atom or atom group\\ngains electrons. The principal anions in the body\\ninclude bicarbonate, chloride, phosphate, and sulfate\\nions, as well as ions formed by certain protein\\ncompounds or organic acids.'),\n",
       " Document(id='41575e47-466a-43b2-88fc-fbe5b1a02012', metadata={'creationdate': '2006-10-16T20:19:33+02:00', 'creator': 'Adobe Acrobat 6.0', 'moddate': '2006-10-16T22:03:45+02:00', 'page': 1310.0, 'page_label': '1281', 'producer': 'PDFlib+PDI 6.0.3 (SunOS)', 'source': 'data\\\\Medical book.pdf', 'total_pages': 4505.0}, page_content='away from sunlight and moisture. In addition,\\npatients receiving multiple electrolyte injections\\nKEY TERMS\\nAnion— An ion carrying a negative charge owing to\\na surplus of electrons. Anions in the body include\\nbicarbonate, chloride, phosphate, sulfate, certain\\norganic acids, and certain protein compounds.\\nCation— An ion carrying a positive charge due to a\\nloss of electrons. Cations in the body include\\nsodium, potassium, magnesium, and calcium ions.'),\n",
       " Document(id='44955b44-9fed-46d5-b050-65a56d52e670', metadata={'creationdate': '2006-10-16T20:19:33+02:00', 'creator': 'Adobe Acrobat 6.0', 'moddate': '2006-10-16T22:03:45+02:00', 'page': 3166.0, 'page_label': '3137', 'producer': 'PDFlib+PDI 6.0.3 (SunOS)', 'source': 'data\\\\Medical book.pdf', 'total_pages': 4505.0}, page_content='acterized by the number of electrons around each\\natom. One electron’s negative charge balances the\\npositive charge of each proton in the nucleus. To\\nkeep all those positive charges in the nucleus from\\nrepelling each other (like the same poles of mag-\\nnets), neutrons are added. Only certain numbers of\\nneutrons work. Other numbers cannot hold the\\nnucleus together, so it splits apart, giving off ioniz-\\ning radiation. Sometimes one of the split products is'),\n",
       " Document(id='cefd6d53-dae2-4579-8540-024509d2d0bd', metadata={'creationdate': '2006-10-16T20:19:33+02:00', 'creator': 'Adobe Acrobat 6.0', 'moddate': '2006-10-16T22:03:45+02:00', 'page': 3163.0, 'page_label': '3134', 'producer': 'PDFlib+PDI 6.0.3 (SunOS)', 'source': 'data\\\\Medical book.pdf', 'total_pages': 4505.0}, page_content='elements released in nuclear power plant accidents\\nand detonation of nuclear weapons during war and as\\nterrorist acts.\\nDescription\\nIonizing radiation is made up of unstable atoms\\nthat contain an excess amount of energy. In an attempt\\nto stabilize, the atoms emit the excess energy into the\\natmosphere, creating radiation. Radiation can either\\nbe electromagnetic or particulate.\\nThe energy of electromagnetic radiation is a direct\\nfunction of its frequency. The high–energy, high–fre-'),\n",
       " Document(id='81a61ef8-e038-426e-b9ba-214ecb15e6dd', metadata={'creationdate': '2006-10-16T20:19:33+02:00', 'creator': 'Adobe Acrobat 6.0', 'moddate': '2006-10-16T22:03:45+02:00', 'page': 2079.0, 'page_label': '2050', 'producer': 'PDFlib+PDI 6.0.3 (SunOS)', 'source': 'data\\\\Medical book.pdf', 'total_pages': 4505.0}, page_content='Non-ionizing radiation— Rays of energy that move\\nin long, slow wave patterns and do not penetrate\\ncells.t\\nIonizing radiation— Any electromagnetic or parti-\\nculate radiation capable of producing ions, directly\\nor indirectly, in its passage through matter.\\n2050 GALE ENCYCLOPEDIA OF MEDICINE\\nIntestinal obstructions')]"
      ]
     },
     "execution_count": 23,
     "metadata": {},
     "output_type": "execute_result"
    }
   ],
   "source": [
    "retrieved_docs"
   ]
  },
  {
   "cell_type": "code",
   "execution_count": 56,
   "id": "e0901313",
   "metadata": {},
   "outputs": [
    {
     "name": "stdout",
     "output_type": "stream",
     "text": [
      "Question: what is Warts and its Description, Causes, symptoms, Diagnosis, Treatment and Prevention\n",
      "Answer: ?\n",
      "\n",
      "Warts: \n",
      "Description: Warts are small, benign growths caused by a viral infection of the skin or mucous membrane. \n",
      "Causes: Warts are caused by the human papilloma virus (HPV). \n",
      "Symptoms: The symptoms include bleeding, pain, and odor as well as the visible warts. \n",
      "Diagnosis: The diagnosis is usually made by examining scrapings from the warts under a darkfield microscope. \n",
      "Treatment: No treatment for genital warts is completely effective because therapy depends on destroying skin infected with the virus. \n",
      "Prevention: I don't know.\n"
     ]
    }
   ],
   "source": [
    "from langchain_community.llms import Together\n",
    "from langchain.chains import create_retrieval_chain\n",
    "from langchain.chains.combine_documents import create_stuff_documents_chain\n",
    "from langchain_core.prompts import ChatPromptTemplate\n",
    "\n",
    "# Initialize Together API LLM\n",
    "TOGETHER_API_KEY = os.environ.get(\"TOGETHER_API_KEY\")\n",
    "\n",
    "llm = Together(\n",
    "    model=\"meta-llama/Meta-Llama-3.1-405B-Instruct-Turbo\",\n",
    "    temperature=0.4,\n",
    "    max_tokens=500,\n",
    "    together_api_key=TOGETHER_API_KEY\n",
    ")\n",
    "\n",
    "system_prompt = (\n",
    "    \"Answer the question using only the given context. \"\n",
    "    \"Return the answer in concise bullet points. \"\n",
    "    \"Do not explain or add reasoning. \"\n",
    "    \"Return only the final answer, in one or two sentences. \"\n",
    "    \"If the answer is not in the context, respond with 'I don't know.'\\n\\n\"\n",
    "    \"Context:\\n{context}\"\n",
    ")\n",
    "\n",
    "# Step 2: Prepare the chat prompt\n",
    "prompt = ChatPromptTemplate.from_messages(\n",
    "    [\n",
    "        (\"system\", system_prompt),\n",
    "        (\"human\", \"{input}\"),\n",
    "    ]\n",
    ")\n",
    "\n",
    "# Step 3: Create the retrieval pipeline\n",
    "question_answer_chain = create_stuff_documents_chain(llm, prompt)\n",
    "\n",
    "# Combine retriever and LLM QA chain\n",
    "rag_chain = create_retrieval_chain(retriever, question_answer_chain)\n",
    "\n",
    "try: \n",
    "    question = \"what is Warts and its Description, Causes, symptoms, Diagnosis, Treatment and Prevention\"\n",
    "    response = rag_chain.invoke({\"input\": question})\n",
    "    print(f\"Question: {question}\")\n",
    "    print(f\"Answer: {response['answer']}\")\n",
    "\n",
    "except Exception as e:\n",
    "    print(f\"\\nError: {e}\")\n",
    "    print(\"Check Pinecone connection and API keys.\")"
   ]
  }
 ],
 "metadata": {
  "kernelspec": {
   "display_name": "mchatbot",
   "language": "python",
   "name": "python3"
  },
  "language_info": {
   "codemirror_mode": {
    "name": "ipython",
    "version": 3
   },
   "file_extension": ".py",
   "mimetype": "text/x-python",
   "name": "python",
   "nbconvert_exporter": "python",
   "pygments_lexer": "ipython3",
   "version": "3.10.17"
  }
 },
 "nbformat": 4,
 "nbformat_minor": 5
}
